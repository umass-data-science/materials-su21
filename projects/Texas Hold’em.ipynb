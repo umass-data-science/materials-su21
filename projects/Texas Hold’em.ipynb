{
 "cells": [
  {
   "cell_type": "markdown",
   "metadata": {},
   "source": [
    "# Project 4: Texas Hold’em\n",
    "\n",
    "The goal of this project is to understand and use simple rules of probability in the Poker game Texas Hold’em, which is perhapst the most popular of all the poker variations.\n",
    "\n",
    "In Texas Hold’em, plays draw cards from a deck of 52 standard cards. Each player is dealt two cards to start the hand and will make the best five-card hand possible by using their two cards combined with the five community cards that are dealt throughout the hand. Cards are dealt in four rounds:\n",
    "\n",
    "* Pre-Flop: Each player is dealt two cards, known as \"hole cards\"\n",
    "* Flop: Three community cards are dealt\n",
    "* Turn: One community card is dealt\n",
    "* River: Final community card is dealt\n",
    "\n",
    "See [here](https://en.wikipedia.org/wiki/Texas_hold_%27em) for more details on Texas Hold’em."
   ]
  },
  {
   "cell_type": "markdown",
   "metadata": {},
   "source": [
    "## 1. Best Pre-Flop\n",
    "\n",
    "The best hold cards you can have in Texas Hold’em is pocket Aces (two Aces). Write codes to compute the probability of being dealt two Aces? You may use the following function to compute the probability of a given event (probability percent rounded to one decimal place).  \n"
   ]
  },
  {
   "cell_type": "code",
   "execution_count": 1,
   "metadata": {},
   "outputs": [],
   "source": [
    "def event_probability(event_outcomes, sample_space):\n",
    "    probability = (event_outcomes / sample_space) * 100\n",
    "    return round(probability, 1)"
   ]
  },
  {
   "cell_type": "code",
   "execution_count": null,
   "metadata": {},
   "outputs": [],
   "source": []
  },
  {
   "cell_type": "markdown",
   "metadata": {},
   "source": [
    "Now let us consider a different setting. Suppose you draw the two Aces successively with replacement, i.e. putting the card back to the deck after drawing the first card. What is the probability of drawing two Aces successively with replacement?"
   ]
  },
  {
   "cell_type": "code",
   "execution_count": null,
   "metadata": {},
   "outputs": [],
   "source": []
  },
  {
   "cell_type": "markdown",
   "metadata": {},
   "source": [
    "What makes the difference in the last two settings? "
   ]
  },
  {
   "cell_type": "code",
   "execution_count": null,
   "metadata": {},
   "outputs": [],
   "source": []
  },
  {
   "attachments": {},
   "cell_type": "markdown",
   "metadata": {},
   "source": [
    "## 2. Flush\n",
    "\n",
    "Suppose you are on the Turn. You have the following two cards in your hand \n",
    "\n",
    "Diamond A, Diamond K\n",
    "\n",
    "The community cards are \n",
    "\n",
    "Club A, Heart 4, Diamond 5, Diamond J\n",
    "\n",
    "You have four cards to an Ace high Flush. A Flush is a strong poker hand where all five cards are the same suit. What's the probability that the last community card, known as the River Card, is a Diamond? Write codes to evaluate the probability. You may need to use the function event_probability defined above.\n"
   ]
  },
  {
   "cell_type": "code",
   "execution_count": null,
   "metadata": {},
   "outputs": [],
   "source": []
  },
  {
   "cell_type": "markdown",
   "metadata": {},
   "source": [
    "## 3. Flop Flush\n",
    "\n",
    "Now consider a similar situation as the Flush draw above, except this time you're on the Flop and have two more community cards to come instead of just one. Suppose you have the same two cards in your hand as above, namely \n",
    "\n",
    "Diamond A, Diamond K\n",
    "\n",
    "But you are on the Flop and the community cards are \n",
    "\n",
    "Heart 4, Diamond 5, Diamond J\n",
    "\n",
    "Use the function event_probability defined above to compute the probability of getting a Flush by the River."
   ]
  },
  {
   "cell_type": "code",
   "execution_count": null,
   "metadata": {},
   "outputs": [],
   "source": []
  }
 ],
 "metadata": {
  "kernelspec": {
   "display_name": "Python 3",
   "language": "python",
   "name": "python3"
  },
  "language_info": {
   "codemirror_mode": {
    "name": "ipython",
    "version": 3
   },
   "file_extension": ".py",
   "mimetype": "text/x-python",
   "name": "python",
   "nbconvert_exporter": "python",
   "pygments_lexer": "ipython3",
   "version": "3.8.5"
  }
 },
 "nbformat": 4,
 "nbformat_minor": 4
}
