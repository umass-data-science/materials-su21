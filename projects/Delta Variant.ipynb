{
 "cells": [
  {
   "cell_type": "markdown",
   "metadata": {},
   "source": [
    "# Delta Coronavirus Variant\n",
    "\n",
    "The goal of this project is to learn about **Delta Coronavirus Variant** from various data. \n",
    "\n",
    "**Introduction:** \n",
    "\n",
    "Multiple variants of the virus that causes COVID-19 have been identified globally during the COVID-19 pandemic. Variants are determined by their genetic sequences. The term variant of interest (VOI) is used to describe a newly emerging variant for which the medical and public health importance is not yet known. If a variant is thought to be more contagious or likely to cause greater illness or severe disease, or may impact treatment or vaccine response, then it is considered a variant of concern (VOC). \n",
    "\n",
    "**What do we know about the variants of concern?**\n",
    "\n",
    "- B.1.1.7 (Alpha) variants are associated with approximately 50% increased transmission, and likely with increased disease severity and risk of death. Appears to have minimal impact on the effectiveness of treatments with antibodies.\n",
    "- B.1.351 (Beta) variants are associated with approximately 50% increased transmission. May have moderately decreased response to antibody treatments.\n",
    "- P.1 (Gamma) variants may have moderately decreased response to some antibody treatments.\n",
    "- B.1.617.2 (Delta) variants are associated with increased transmission. May have moderately decreased response to antibody treatments. (Delta totals include Delta sub-lineages AY.1 and AY.2)\n",
    "\n",
    "**What do we know about the Variants of Interest?**\n",
    "\n",
    "- B.1.526 (Iota) is associated with significantly reduced efficacy of some antibody treatments.\n",
    "- B.1.525 (Eta), and P.2 (Zeta) variants may have moderately decreased response to some antibody treatments.\n",
    "- B.1.617.1 (Kappa) and B.1.617.3 may have moderately decreased response to some antibody treatments.\n",
    "- B.1.427 and B.1.429 (Epsilon) are associated with approximately 20% increased transmission. There is significantly reduced efficacy of some antibody treatments."
   ]
  },
  {
   "cell_type": "markdown",
   "metadata": {},
   "source": [
    "## 1. Distribution of the number of variants in confirmed cases\n",
    "\n",
    "The file variant-epi-data.csv contains the counts and percentages of recently confirmed COVID-19 cases in NYC. Display (**in the form of the percentage bar plot**) the percentages of the four VOCs from the first and last weeks of May, June and July.  "
   ]
  },
  {
   "cell_type": "code",
   "execution_count": null,
   "metadata": {},
   "outputs": [],
   "source": []
  },
  {
   "cell_type": "markdown",
   "metadata": {},
   "source": [
    "Variant Propotions of VOCs and VOIs in the US can be  found on the [CDC website](https://covid.cdc.gov/covid-data-tracker/#variant-proportions). Read the charts provided in the link and discuss the change of Alpha and Delta variants in the US. "
   ]
  },
  {
   "cell_type": "code",
   "execution_count": null,
   "metadata": {},
   "outputs": [],
   "source": []
  },
  {
   "cell_type": "markdown",
   "metadata": {},
   "source": [
    "## 2. New hospital admissions and hospitalized patients\n",
    "\n",
    "Find the latest trend for the numbers of [hospital admission](https://covid.cdc.gov/covid-data-tracker/?CDC_AA_refVal=https%3A%2F%2Fwww.cdc.gov%2Fcoronavirus%2F2019-ncov%2Fcases-updates%2Fcases-in-us.html#new-hospital-admissions) and [hospitalized patients](https://covid.cdc.gov/covid-data-tracker/?CDC_AA_refVal=https%3A%2F%2Fwww.cdc.gov%2Fcoronavirus%2F2019-ncov%2Fcases-updates%2Fcases-in-us.html#hospitalizations).\n",
    "\n",
    "Would you agree (and why) that the Delta variant is the major reason for the increases of the new hospital admissions and hospitalized patients?\n"
   ]
  },
  {
   "cell_type": "code",
   "execution_count": null,
   "metadata": {},
   "outputs": [],
   "source": []
  },
  {
   "cell_type": "markdown",
   "metadata": {},
   "source": [
    "## 3. Vaccines VS Delta variant\n",
    "\n",
    "Read carefully the [article on healthline ](https://www.healthline.com/health-news/heres-how-well-covid-19-vaccines-work-against-the-delta-variant). Answer the following questions. "
   ]
  },
  {
   "cell_type": "markdown",
   "metadata": {},
   "source": [
    "Do you agree with (and why) that the Delta variant is surging some areas of the country because their low vaccination rates? "
   ]
  },
  {
   "cell_type": "code",
   "execution_count": null,
   "metadata": {},
   "outputs": [],
   "source": []
  },
  {
   "cell_type": "markdown",
   "metadata": {},
   "source": [
    "Do you think (and why) current vaccines (Pfizer-BioNTech, Moderna, Johnson & Johnson and AstraZeneca) will be effective in protecting agaist the Delta variant?"
   ]
  },
  {
   "cell_type": "code",
   "execution_count": null,
   "metadata": {},
   "outputs": [],
   "source": []
  },
  {
   "cell_type": "markdown",
   "metadata": {},
   "source": [
    "What would you do to protect yourself from Delta variant?"
   ]
  },
  {
   "cell_type": "code",
   "execution_count": null,
   "metadata": {},
   "outputs": [],
   "source": []
  }
 ],
 "metadata": {
  "kernelspec": {
   "display_name": "Python 3",
   "language": "python",
   "name": "python3"
  },
  "language_info": {
   "codemirror_mode": {
    "name": "ipython",
    "version": 3
   },
   "file_extension": ".py",
   "mimetype": "text/x-python",
   "name": "python",
   "nbconvert_exporter": "python",
   "pygments_lexer": "ipython3",
   "version": "3.8.5"
  }
 },
 "nbformat": 4,
 "nbformat_minor": 4
}
