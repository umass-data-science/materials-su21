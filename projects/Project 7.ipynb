{
 "cells": [
  {
   "cell_type": "markdown",
   "metadata": {},
   "source": [
    "# Project 7: clinical trial"
   ]
  },
  {
   "cell_type": "raw",
   "metadata": {},
   "source": [
    "Assume without any treatment, the probability that a SARS-COV-2 positive patient is hospitalized for COVID is 0.1. \n",
    "\n",
    "Please design a simulator that counts the number of hospitalized patients."
   ]
  },
  {
   "cell_type": "code",
   "execution_count": 1,
   "metadata": {},
   "outputs": [],
   "source": [
    "import random\n",
    "\n",
    "def count_hospitalized(total_number, risk):\n",
    "#write your own code\n"
   ]
  },
  {
   "cell_type": "raw",
   "metadata": {},
   "source": [
    "And test your simulator"
   ]
  },
  {
   "cell_type": "code",
   "execution_count": null,
   "metadata": {},
   "outputs": [],
   "source": [
    "print(count_hospitalized(10, 0.1))\n",
    "print(count_hospitalized(50, 0.2))\n",
    "print(count_hospitalized(200, 0.15))"
   ]
  },
  {
   "cell_type": "raw",
   "metadata": {},
   "source": [
    "Now assume that a certain medicine could reduce the probability of hospitalization to p, p < 0.1. Then the theoretical efficacy of this medicine is 1 - p/0.1. For example, if p = 0.01, the theoretical efficacy of this treatment is 90% in reducing hospitalization. \n",
    "\n",
    "A randomized controlled clinical trial randomly divides 2x patients into two groups with x patient each. All participants are blinded so that they don't know their group. The first group takes placebo. The second group take the medicine. If hospitalization risks of the treatment group and the control group are p0 and p1 respectively, then the efficacy of this clinical trail is 1 - p0/p1, i.e., the treatment prevents 1 - p0/p1 hosptializations. \n",
    "\n",
    "Write a simulator that simulates a randomized controlled clinical trail. The simulator takes number of patient in each group and the theoretical efficacy as parameters."
   ]
  },
  {
   "cell_type": "code",
   "execution_count": 12,
   "metadata": {
    "scrolled": true
   },
   "outputs": [],
   "source": [
    "def clinical_trial(number_of_patient, theoretical_efficacy):\n",
    "#write your own code"
   ]
  },
  {
   "cell_type": "raw",
   "metadata": {},
   "source": [
    "And test your simulator."
   ]
  },
  {
   "cell_type": "code",
   "execution_count": null,
   "metadata": {},
   "outputs": [],
   "source": [
    "print(clinical_trial(1000, 0.5))"
   ]
  },
  {
   "cell_type": "raw",
   "metadata": {},
   "source": [
    "Now consider the \"cherry-picking\" situation. An organizer run N clinical trials at the same time but only publish the result of the best one. Write a simulator that simulate the \"efficacy\" obtained by cherry-picking. "
   ]
  },
  {
   "cell_type": "code",
   "execution_count": 13,
   "metadata": {},
   "outputs": [],
   "source": [
    "def cherry_pick(number_of_trials, number_of_patient, theoretical_efficacy):\n",
    "#write your own code"
   ]
  },
  {
   "cell_type": "raw",
   "metadata": {},
   "source": [
    "Test your simulator."
   ]
  },
  {
   "cell_type": "code",
   "execution_count": null,
   "metadata": {},
   "outputs": [],
   "source": [
    "print(cherry_pick(5, 1000, 0.5))"
   ]
  },
  {
   "cell_type": "raw",
   "metadata": {},
   "source": [
    "If someone is cherry-picking a medicine with zero theoretical efficacy by running 10 clinical trials with 100 person each, what's the \"efficacy\" he/she would obtain? Try with different sample size and theoretical efficacy. Explain your observation using plots and diagrams."
   ]
  },
  {
   "cell_type": "code",
   "execution_count": null,
   "metadata": {
    "scrolled": true
   },
   "outputs": [],
   "source": [
    "print(cherry_pick(10, 100, 0.0))"
   ]
  },
  {
   "cell_type": "raw",
   "metadata": {},
   "source": [
    "There are lots of reports about unproven COVID drugs, such as Hydroxychloroquine, Quercetin, and Ivermectin. Do some research yourself and draw your conclusion."
   ]
  },
  {
   "cell_type": "code",
   "execution_count": null,
   "metadata": {},
   "outputs": [],
   "source": []
  }
 ],
 "metadata": {
  "kernelspec": {
   "display_name": "Python 3",
   "language": "python",
   "name": "python3"
  },
  "language_info": {
   "codemirror_mode": {
    "name": "ipython",
    "version": 3
   },
   "file_extension": ".py",
   "mimetype": "text/x-python",
   "name": "python",
   "nbconvert_exporter": "python",
   "pygments_lexer": "ipython3",
   "version": "3.5.10"
  }
 },
 "nbformat": 4,
 "nbformat_minor": 2
}
