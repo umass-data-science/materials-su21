{
 "cells": [
  {
   "cell_type": "raw",
   "metadata": {},
   "source": [
    "Imagine an administrator who wants to hire the best secretary out of M rankable applicants for a position. The applicants are interviewed one by one in random order. A decision about each particular applicant is to be made **immediately after the interview**. Once rejected, an applicant cannot be recalled. Once an applicant is hired, the administrator will stop interviewing new candidates. \n",
    "\n",
    "During the interview, the administrator gains information sufficient to rank the applicant among all applicants interviewed so far, but is unaware of the quality of yet unseen applicants. In this project, you will explore different strategies (stopping rules) to maximize the probability of selecting the best applicant. \n",
    "\n",
    "First, write a simulator that can simulate the performance of M applicants. Assume their numerical scores are randomly distributed between 0 and 100."
   ]
  },
  {
   "cell_type": "code",
   "execution_count": null,
   "metadata": {
    "scrolled": true
   },
   "outputs": [],
   "source": [
    "import random\n",
    "import numpy as np\n",
    "\n",
    "def candidate_profile(total_number):\n",
    "#write your own code"
   ]
  },
  {
   "cell_type": "raw",
   "metadata": {},
   "source": [
    "Consider the following interview strategy: Rejecting the first N applicants that are interviewed but remember their performance score. Then stop at the first applicant who is better than every applicant interviewed so far. If no applicant meets this stardand, then hire the last applicant. \n",
    "\n",
    "Implement this strategy as a function. Return the performance score of the chosen candidate."
   ]
  },
  {
   "cell_type": "code",
   "execution_count": null,
   "metadata": {
    "scrolled": true
   },
   "outputs": [],
   "source": [
    "def selection(Profile, stopping):\n",
    "#write your own code"
   ]
  },
  {
   "cell_type": "raw",
   "metadata": {},
   "source": [
    "Now fix some large M. Change the stopping time N gradually. For each N, run the simulator for 100 times and take the average. Plot the performance score of your candidate versus N. For each N, how many time did you successfully choose the best applicant? "
   ]
  },
  {
   "cell_type": "code",
   "execution_count": null,
   "metadata": {},
   "outputs": [],
   "source": [
    "import matplotlib.pyplot as plt\n",
    "\n",
    "#write your own code"
   ]
  },
  {
   "cell_type": "raw",
   "metadata": {},
   "source": [
    "If you are allowed to fire the hired applicant once (and only once) after seeing a better candidate, how would the hiring strategy change? Discuss it."
   ]
  },
  {
   "cell_type": "code",
   "execution_count": null,
   "metadata": {},
   "outputs": [],
   "source": []
  }
 ],
 "metadata": {
  "kernelspec": {
   "display_name": "Python 3",
   "language": "python",
   "name": "python3"
  },
  "language_info": {
   "codemirror_mode": {
    "name": "ipython",
    "version": 3
   },
   "file_extension": ".py",
   "mimetype": "text/x-python",
   "name": "python",
   "nbconvert_exporter": "python",
   "pygments_lexer": "ipython3",
   "version": "3.5.10"
  }
 },
 "nbformat": 4,
 "nbformat_minor": 2
}
