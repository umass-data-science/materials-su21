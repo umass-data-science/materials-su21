{
 "cells": [
  {
   "cell_type": "markdown",
   "metadata": {},
   "source": [
    "# Project 6: Gambler's ruin game"
   ]
  },
  {
   "cell_type": "raw",
   "metadata": {},
   "source": [
    "Assume a gambler starts to play a certain game with an initial fortune of $20. Each time the play can choose a certain bet, say x dollars. If the gambler wins, he gets x dollars. Otherwise he loses x dollars. The game stops until either the gambler loses all his fortune or his fortune reaches $100. \n",
    "\n",
    "Let's assume that the winning probability of the gambler is p. If p = 0.5, this is said to be a fair game. A game is subfair if p < 0.5, and superfair if p > 0.5.\n",
    "\n",
    "The minimum bet is $1. And the maximum bet is the current fortune that the player has. \n",
    "\n",
    "In this project, we will investigate how the final outcome (leave the game with $100 or zero) depends on the winning probability and the player's strategy. "
   ]
  },
  {
   "cell_type": "markdown",
   "metadata": {},
   "source": [
    "Let's first write a game simulator."
   ]
  },
  {
   "cell_type": "code",
   "execution_count": 9,
   "metadata": {},
   "outputs": [],
   "source": [
    "import random\n",
    "\n",
    "def play(bet_amount, winning_prob):\n",
    "#write your code"
   ]
  },
  {
   "cell_type": "markdown",
   "metadata": {},
   "source": [
    "Test your game simulator:"
   ]
  },
  {
   "cell_type": "code",
   "execution_count": null,
   "metadata": {},
   "outputs": [],
   "source": [
    "print(play(10, 0.4))\n",
    "print(play(20, 0.8))\n",
    "print(play(15, 0.9))\n",
    "print(play(30, 0.1))\n",
    "print(play(5, 1.0))"
   ]
  },
  {
   "cell_type": "raw",
   "metadata": {},
   "source": [
    "Now build a simulator that simulate the game until either the gambler leaves with $100 or loses all of the fortune. Return TRUE if reaching $100 and FALSE if reaching 0. Remember the maximal possible bet is his current fortune."
   ]
  },
  {
   "cell_type": "code",
   "execution_count": 45,
   "metadata": {},
   "outputs": [],
   "source": [
    "def gambler_ruin(initial_fortune, bet_amount, winning_prob):\n",
    "#write your code"
   ]
  },
  {
   "cell_type": "markdown",
   "metadata": {},
   "source": [
    "Test your game simulator."
   ]
  },
  {
   "cell_type": "code",
   "execution_count": null,
   "metadata": {
    "scrolled": true
   },
   "outputs": [],
   "source": [
    "print(gambler_ruin(20,1,0.6))\n",
    "print(gambler_ruin(20,1,0.5))\n",
    "print(gambler_ruin(20,1,0.4))"
   ]
  },
  {
   "cell_type": "raw",
   "metadata": {},
   "source": [
    "Let's introduce the idea of bold play, which means betting everything you can but no more than necessary. For example, if you have $40, you should bet 40. But if you have $75, you should only bet $25 because you will win when reaching $100. Build a simulator that uses the bold strategy. Again, return TRUE if reaching $100 and FALSE if reaching 0. "
   ]
  },
  {
   "cell_type": "code",
   "execution_count": 66,
   "metadata": {},
   "outputs": [],
   "source": [
    "def bet(current_fortune):\n",
    "#write your code\n",
    "\n",
    "def gambler_ruin_bold(initial_fortune, winning_prob):\n",
    "#write your code"
   ]
  },
  {
   "cell_type": "markdown",
   "metadata": {},
   "source": [
    "Test your simulator again."
   ]
  },
  {
   "cell_type": "code",
   "execution_count": null,
   "metadata": {},
   "outputs": [],
   "source": [
    "print(gambler_ruin_bold(20,0.6))\n",
    "print(gambler_ruin_bold(20,0.5))\n",
    "print(gambler_ruin_bold(20,0.4))"
   ]
  },
  {
   "cell_type": "raw",
   "metadata": {},
   "source": [
    "Now we can compare different strategies. The \"cautious strategy\" means each time the player only bets $1. The \"normal strategy\" means each time the player bets $5. The \"bold strategy\" means the play uses the bold strategy: betting everything but no more than necessary.\n",
    "\n",
    "Choose a few different winning probabilities that are subfair, fair, and superfair. Play each strategy for 1000 times and record the winning probability. What's your conclusion? Can you also plot a histogram of the total number of games that the gambler plays before stopping the game?"
   ]
  },
  {
   "cell_type": "code",
   "execution_count": null,
   "metadata": {},
   "outputs": [],
   "source": []
  }
 ],
 "metadata": {
  "kernelspec": {
   "display_name": "Python 3",
   "language": "python",
   "name": "python3"
  },
  "language_info": {
   "codemirror_mode": {
    "name": "ipython",
    "version": 3
   },
   "file_extension": ".py",
   "mimetype": "text/x-python",
   "name": "python",
   "nbconvert_exporter": "python",
   "pygments_lexer": "ipython3",
   "version": "3.5.10"
  }
 },
 "nbformat": 4,
 "nbformat_minor": 2
}
