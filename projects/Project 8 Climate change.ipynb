{
 "cells": [
  {
   "cell_type": "raw",
   "metadata": {},
   "source": [
    "In the folder will see three data files. The first file \"co2_1958_2021.csv\" contains monthly CO2 concentration from 1958 to 2021. The second one \"CO2_0000-2014.csv\" has annual CO2 concentration from 0 to 2014. The third file \"temperature_1850_now.csv\" contains the deviation of monthly temperature from the 20th century average from 1850 to now. The goal is to use these files to study the global warming issue. \n",
    "\n",
    "First of all, please import all three files."
   ]
  },
  {
   "cell_type": "code",
   "execution_count": 1,
   "metadata": {},
   "outputs": [],
   "source": [
    "from datascience import *\n",
    "%matplotlib inline\n",
    "path_data = './'\n",
    "import matplotlib.pyplot as plots\n",
    "plots.style.use('fivethirtyeight')\n",
    "import numpy as np\n",
    "\n",
    "#Write your own code"
   ]
  },
  {
   "cell_type": "raw",
   "metadata": {},
   "source": [
    "Now please combine two CO2 concentration data to get the annual CO2 concentration from year 0 to year 2021. Explain how you merge monthly data and yearly data."
   ]
  },
  {
   "cell_type": "code",
   "execution_count": null,
   "metadata": {},
   "outputs": [],
   "source": []
  },
  {
   "cell_type": "raw",
   "metadata": {},
   "source": [
    "Use what you have learned in class to analyze annual CO2 data. Do you think the increase of CO2 concentration after 1950 can be attributed to random fluctuation? Why?"
   ]
  },
  {
   "cell_type": "code",
   "execution_count": null,
   "metadata": {},
   "outputs": [],
   "source": []
  },
  {
   "cell_type": "raw",
   "metadata": {},
   "source": [
    "Plot the annual temperature with the annual CO2 concentration. Explain your finding. Do you think the recent increase of global temperature is caused by random fluctuation? Why?"
   ]
  },
  {
   "cell_type": "code",
   "execution_count": null,
   "metadata": {},
   "outputs": [],
   "source": []
  },
  {
   "cell_type": "raw",
   "metadata": {},
   "source": [
    "Explain the challenge of increasing global temperature. What could be done to stabilize it?"
   ]
  }
 ],
 "metadata": {
  "kernelspec": {
   "display_name": "Python 3",
   "language": "python",
   "name": "python3"
  },
  "language_info": {
   "codemirror_mode": {
    "name": "ipython",
    "version": 3
   },
   "file_extension": ".py",
   "mimetype": "text/x-python",
   "name": "python",
   "nbconvert_exporter": "python",
   "pygments_lexer": "ipython3",
   "version": "3.6.1"
  }
 },
 "nbformat": 4,
 "nbformat_minor": 2
}
